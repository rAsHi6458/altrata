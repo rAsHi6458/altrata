{
 "cells": [
  {
   "cell_type": "code",
   "execution_count": 33,
   "id": "2472760c",
   "metadata": {},
   "outputs": [],
   "source": [
    "# importing required libraries\n",
    "# importing Scikit-learn library and datasets package\n",
    "from sklearn import datasets\n",
    "\n",
    "# Loading the iris plants dataset (classification)\n",
    "iris = datasets.load_iris()\n"
   ]
  },
  {
   "cell_type": "code",
   "execution_count": 12,
   "id": "f8ac0614",
   "metadata": {},
   "outputs": [
    {
     "name": "stdout",
     "output_type": "stream",
     "text": [
      "['setosa' 'versicolor' 'virginica']\n"
     ]
    }
   ],
   "source": [
    "print(iris.target_names)"
   ]
  },
  {
   "cell_type": "code",
   "execution_count": 26,
   "id": "cc3eedba",
   "metadata": {},
   "outputs": [],
   "source": [
    "# dividing the datasets into two parts i.e. training datasets and test datasets\n",
    "X, y = datasets.load_iris( return_X_y = True)\n",
    "\n",
    "# Splitting arrays or matrices into random train and test subsets\n",
    "from sklearn.model_selection import train_test_split\n",
    "# i.e. 70 % training dataset and 30 % test datasets\n",
    "X_train, X_test, y_train, y_test = train_test_split(X, y, test_size = 0.30)\n"
   ]
  },
  {
   "cell_type": "code",
   "execution_count": 32,
   "id": "9be0f1ba",
   "metadata": {},
   "outputs": [],
   "source": [
    "# importing random forest classifier from assemble module\n",
    "from sklearn.ensemble import RandomForestClassifier\n",
    "import pandas as pd\n",
    "# creating dataframe of IRIS dataset\n",
    "data = pd.DataFrame({'sepallength': iris.data[:, 0], 'sepalwidth': iris.data[:, 1],'petallength': iris.data[:, 2], 'petalwidth': iris.data[:, 3],'species': iris.target})\n"
   ]
  },
  {
   "cell_type": "code",
   "execution_count": 40,
   "id": "a522e985",
   "metadata": {},
   "outputs": [
    {
     "name": "stdout",
     "output_type": "stream",
     "text": [
      "\n",
      "ACCURACY OF THE MODEL:  0.9555555555555556\n"
     ]
    }
   ],
   "source": [
    "# creating a RF classifier\n",
    "clf = RandomForestClassifier(n_estimators = 100)\n",
    "\n",
    "# Training the model on the training dataset\n",
    "# fit function is used to train the model using the training sets as parameters\n",
    "clf.fit(X_train, y_train)\n",
    "\n",
    "# performing predictions on the test dataset\n",
    "y_pred = clf.predict(X_test)\n",
    "\n",
    "# metrics are used to find accuracy or error\n",
    "from sklearn import metrics\n",
    "print()\n",
    "\n",
    "# using metrics module for accuracy calculation\n",
    "print(\"ACCURACY OF THE MODEL: \", metrics.accuracy_score(y_test, y_pred))\n"
   ]
  },
  {
   "cell_type": "code",
   "execution_count": 42,
   "id": "161b1fcb",
   "metadata": {},
   "outputs": [
    {
     "data": {
      "text/plain": [
       "array([[15,  0,  0],\n",
       "       [ 0, 15,  0],\n",
       "       [ 0,  2, 13]], dtype=int64)"
      ]
     },
     "execution_count": 42,
     "metadata": {},
     "output_type": "execute_result"
    }
   ],
   "source": [
    "#Creating the Confusion matrix  \n",
    "from sklearn.metrics import confusion_matrix  \n",
    "cm= confusion_matrix(y_test, y_pred) \n",
    "cm"
   ]
  },
  {
   "cell_type": "code",
   "execution_count": null,
   "id": "9fa29da5",
   "metadata": {
    "scrolled": true
   },
   "outputs": [],
   "source": []
  },
  {
   "cell_type": "code",
   "execution_count": null,
   "id": "83a41192",
   "metadata": {},
   "outputs": [],
   "source": []
  }
 ],
 "metadata": {
  "kernelspec": {
   "display_name": "Python 3 (ipykernel)",
   "language": "python",
   "name": "python3"
  },
  "language_info": {
   "codemirror_mode": {
    "name": "ipython",
    "version": 3
   },
   "file_extension": ".py",
   "mimetype": "text/x-python",
   "name": "python",
   "nbconvert_exporter": "python",
   "pygments_lexer": "ipython3",
   "version": "3.9.13"
  }
 },
 "nbformat": 4,
 "nbformat_minor": 5
}
